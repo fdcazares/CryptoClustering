# Import required libraries and dependencies
import pandas as pd
import hvplot.pandas
from sklearn.cluster import KMeans
from sklearn.decomposition import PCA
from sklearn.preprocessing import StandardScaler


# Load the data into a Pandas DataFrame
df_market_data = pd.read_csv(
    "Resources/crypto_market_data.csv",
    index_col="coin_id")

# Display sample data
df_market_data.head(10)


# Generate summary statistics
df_market_data.describe()


# Plot your data to see what's in your DataFrame
df_market_data.hvplot.line(
    width=800,
    height=400,
    rot=90
)








# Use the `StandardScaler()` module from scikit-learn to normalize the data from the CSV file
scaled_data = StandardScaler().fit_transform(df_market_data)


# Create a DataFrame with the scaled data
df_scaled_data = pd.DataFrame(
    scaled_data,
    columns = df_market_data.columns
)

# Copy the crypto names from the original DataFrame
df_scaled_data["coin_id"] = df_market_data.index

# Set the coin_id column as index

df_scaled_data = df_scaled_data.set_index("coin_id")
# Display the scaled DataFrame
df_scaled_data.head()








# Create a list with the number of k-values from 1 to 11
k = list(range(1,11))


# Create an empty list to store the inertia values
inertia = []

# Create a for loop to compute the inertia with each possible value of k
# Inside the loop:
# 1. Create a KMeans model using the loop counter for the n_clusters
# 2. Fit the model to the data using `df_market_data_scaled`
# 3. Append the model.inertia_ to the inertia list
for i in k:
    model = KMeans(n_clusters=i, random_state=0)
    model.fit(df_scaled_data)
    inertia.append(model.inertia_)


# Create a dictionary with the data to plot the Elbow curve
elbow_data = {
    "k":k,
    "inertia":inertia
}

# Create a DataFrame with the data to plot the Elbow curve
df_elbow = pd.DataFrame(elbow_data)
df_elbow.head(10)


# Plot a line chart with all the inertia values computed with
# the different values of k to visually identify the optimal value for k.
elbow_plot = df_elbow.hvplot.line(x="k", y="inertia", title="Elbow Curve", xticks=k)
elbow_plot











# Initialize the K-Means model using the best value for k
model = KMeans(n_clusters=4)


# Fit the K-Means model using the scaled data
model.fit(df_scaled_data)


# Predict the clusters to group the cryptocurrencies using the scaled DataFrame
crypto_clusters = model.predict(df_scaled_data)

# Print the resulting array of cluster values.
print(crypto_clusters)


# Create a copy of the scaled DataFrame
df_scaled_data_predictions = df_scaled_data.copy()


# Add a new column to the copy of the scaled DataFrame with the predicted clusters
df_scaled_data_predictions["crypto_cluster"] = crypto_clusters

# Display the copy of the scaled DataFrame
df_scaled_data_predictions.head()


# Create a scatter plot using hvPlot by setting
# `x="price_change_percentage_24h"` and `y="price_change_percentage_7d"`.
# Color the graph points with the labels found using K-Means and
# add the crypto name in the `hover_cols` parameter to identify
# the cryptocurrency represented by each data point.
clusters_plot = df_scaled_data_predictions.hvplot.scatter(
    x="price_change_percentage_24h",
    y="price_change_percentage_7d",
    hover_cols=["coin_id"],
    marker=["hex","square","cross","inverted_triangle"],
    title="Cryptocurrencies Clusters",
)
clusters_plot








# Create a PCA model instance and set `n_components=3`.
pca= PCA(n_components=3)


# Use the PCA model with `fit_transform` to reduce the original scaled DataFrame
# down to three principal components.
market_pca_data = pca.fit_transform(df_scaled_data)

# View the scaled PCA data
market_pca_data[:5]


# Retrieve the explained variance to determine how much information
# can be attributed to each principal component.
pca.explained_variance_ratio_





# Create a new DataFrame with the PCA data.
df_market_data_pca = pd.DataFrame(
    market_pca_data,
    columns=["PC1","PC2","PC3"]
)

# Copy the crypto names from the original scaled DataFrame
df_market_data_pca["coin_id"] = df_market_data.index

# Set the coin_id column as index
df_market_data_pca = df_market_data_pca.set_index("coin_id")

# Display the scaled PCA DataFrame
df_market_data_pca.head()








# Create a list with the number of k-values from 1 to 11
k= list(range(1,11))


# Create an empty list to store the inertia values
inertia = []

# Create a for loop to compute the inertia with each possible value of k
# Inside the loop:
# 1. Create a KMeans model using the loop counter for the n_clusters
# 2. Fit the model to the data using `df_market_data_pca`
# 3. Append the model.inertia_ to the inertia list
for i in k:
    model = KMeans(n_clusters=i, random_state=0)
    model.fit(df_market_data_pca)
    inertia.append(model.inertia_)


# Create a dictionary with the data to plot the Elbow curve
elbow_data_pca = {
    "k":k,
    "inertia": inertia
}
# Create a DataFrame with the data to plot the Elbow curve
df_elbow_pca = pd.DataFrame(elbow_data_pca)


# Plot a line chart with all the inertia values computed with
# the different values of k to visually identify the optimal value for k.
elbow_plot_pca = df_elbow_pca.hvplot.line(x="k",y="inertia",title="Elbow Curve Using PCA Data", xticks=k)
elbow_plot_pca








# Initialize the K-Means model using the best value for k
model_pca = KMeans(n_clusters=4)


# Fit the K-Means model using the PCA data
model_pca.fit(df_market_data_pca)


# Predict the clusters to group the cryptocurrencies using the scaled PCA DataFrame
crypto_clusters_pca = model_pca.predict(df_market_data_pca)

# Print the resulting array of cluster values.
print(crypto_clusters_pca)


# Create a copy of the scaled PCA DataFrame
df_market_data_pca_predictions = df_market_data_pca.copy()

# Add a new column to the copy of the PCA DataFrame with the predicted clusters
df_market_data_pca_predictions["crypto_cluster"] = crypto_clusters_pca

# Display the copy of the scaled PCA DataFrame
df_market_data_pca_predictions.head()


# Create a scatter plot using hvPlot by setting
# `x="PC1"` and `y="PC2"`.
# Color the graph points with the labels found using K-Means and
# add the crypto name in the `hover_cols` parameter to identify
# the cryptocurrency represented by each data point.
clusters_plot_pca = df_market_data_pca_predictions.hvplot.scatter(
    x="PC1",
    y="PC2",
    by="crypto_cluster",
    hover_cols=["coin_id"],
    marker=["hex","square","cross","inverted_triangle"],
    title="Cryptocurrencies Clusters Using PCA Data",
)
clusters_plot_pca





# Composite plot to contrast the Elbow curves
elbow_plot + elbow_plot_pca


# Composite plot to contrast the clusters
clusters_plot + clusters_plot_pca






